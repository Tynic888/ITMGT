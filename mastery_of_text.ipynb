{
 "cells": [
  {
   "cell_type": "code",
   "execution_count": 14,
   "id": "8dba7a3f-d7e5-46ae-a839-854d639aca3c",
   "metadata": {},
   "outputs": [
    {
     "name": "stdout",
     "output_type": "stream",
     "text": [
      "99968\n",
      "824538\n",
      "113\n",
      "the\n"
     ]
    }
   ],
   "source": [
    "import urllib.request\n",
    "\n",
    "pg10 = urllib.request.urlopen(\"https://www.gutenberg.org/cache/epub/10/pg10.txt\")\n",
    "\n",
    "text = pg10.read()\n",
    "\n",
    "num_lines = len(text.splitlines())\n",
    "\n",
    "print(num_lines)\n",
    "\n",
    "words = text.split()\n",
    "\n",
    "num_words = len(words)\n",
    "\n",
    "print(num_words)\n",
    "\n",
    "text = str(text)\n",
    "count = text.count(\"apostle\")+text.count(\"Apostle\")\n",
    "\n",
    "print(count)\n",
    "\n",
    "text = text.lower()\n",
    "\n",
    "\n",
    "punctuation = \".,!?;:'\\\"()[]{}<>-*—_`“”‘’\"\n",
    "\n",
    "for char in punctuation:\n",
    "    text = text.replace(char, \"\")\n",
    "\n",
    "words = text.split()\n",
    "\n",
    "\n",
    "word_counts = {}\n",
    "for word in words:\n",
    "    if word in word_counts:\n",
    "        word_counts[word] += 1\n",
    "    else:\n",
    "        word_counts[word] = 1\n",
    "most_common_word = \"\"\n",
    "max_count = 0\n",
    "\n",
    "for word in word_counts:\n",
    "    if word_counts[word] > max_count:\n",
    "        most_common_word = word\n",
    "        max_count = word_counts[word]\n",
    "\n",
    "print(most_common_word)\n"
   ]
  },
  {
   "cell_type": "code",
   "execution_count": null,
   "id": "6b8f750b-3097-4330-bce8-82ac4632c90b",
   "metadata": {},
   "outputs": [],
   "source": []
  },
  {
   "cell_type": "code",
   "execution_count": null,
   "id": "178e2a60-6b61-40ea-addc-8f21a2c9175b",
   "metadata": {},
   "outputs": [],
   "source": []
  }
 ],
 "metadata": {
  "kernelspec": {
   "display_name": "Python [conda env:base] *",
   "language": "python",
   "name": "conda-base-py"
  },
  "language_info": {
   "codemirror_mode": {
    "name": "ipython",
    "version": 3
   },
   "file_extension": ".py",
   "mimetype": "text/x-python",
   "name": "python",
   "nbconvert_exporter": "python",
   "pygments_lexer": "ipython3",
   "version": "3.12.7"
  }
 },
 "nbformat": 4,
 "nbformat_minor": 5
}
